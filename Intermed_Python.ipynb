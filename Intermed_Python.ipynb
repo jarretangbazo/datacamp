{
 "cells": [
  {
   "cell_type": "code",
   "execution_count": 10,
   "id": "08825637-1773-4353-a1f9-84c48bed547d",
   "metadata": {},
   "outputs": [
    {
     "name": "stdout",
     "output_type": "stream",
     "text": [
      "         country  drives_right  cars_per_cap\n",
      "0  United States          True           809\n",
      "1      Australia         False           731\n",
      "2          Japan         False           588\n",
      "3          India         False            18\n",
      "4         Russia          True           200\n",
      "5        Morocco          True            70\n",
      "6          Egypt          True            45\n"
     ]
    }
   ],
   "source": [
    "# Dictionary to DataFrame with Pandas\n",
    "import pandas as pd\n",
    "\n",
    "# Create Lists\n",
    "names = [\"United States\", \"Australia\", \"Japan\", \"India\", \"Russia\", \"Morocco\", \"Egypt\"]\n",
    "dr = [True, False, False, False, True, True, True]\n",
    "cpc = [809, 731, 588, 18, 200, 70, 45]\n",
    "\n",
    "# Create Dictionary\n",
    "my_dict = {\n",
    "    'country': names,\n",
    "    'drives_right': dr,\n",
    "    'cars_per_cap': cpc\n",
    "}\n",
    "\n",
    "# Create DataFrame\n",
    "cars = pd.DataFrame(my_dict)\n",
    "print(cars)"
   ]
  },
  {
   "cell_type": "code",
   "execution_count": 11,
   "id": "873626d1-6e72-4f80-b49b-feb3eabe3945",
   "metadata": {},
   "outputs": [
    {
     "name": "stdout",
     "output_type": "stream",
     "text": [
      "           country  drives_right  cars_per_cap\n",
      "US   United States          True           809\n",
      "AUS      Australia         False           731\n",
      "JP           Japan         False           588\n",
      "IN           India         False            18\n",
      "RU          Russia          True           200\n",
      "MOR        Morocco          True            70\n",
      "EGY          Egypt          True            45\n"
     ]
    }
   ],
   "source": [
    "# Define Row Labels\n",
    "row_labels = [\"US\", \"AUS\", \"JP\", \"IN\", \"RU\", \"MOR\", \"EGY\"]\n",
    "cars.index = row_labels\n",
    "print(cars)"
   ]
  },
  {
   "cell_type": "code",
   "execution_count": 15,
   "id": "7d560c19-f654-4c34-970e-5a65055b2bdc",
   "metadata": {},
   "outputs": [
    {
     "data": {
      "text/html": [
       "<div>\n",
       "<style scoped>\n",
       "    .dataframe tbody tr th:only-of-type {\n",
       "        vertical-align: middle;\n",
       "    }\n",
       "\n",
       "    .dataframe tbody tr th {\n",
       "        vertical-align: top;\n",
       "    }\n",
       "\n",
       "    .dataframe thead th {\n",
       "        text-align: right;\n",
       "    }\n",
       "</style>\n",
       "<table border=\"1\" class=\"dataframe\">\n",
       "  <thead>\n",
       "    <tr style=\"text-align: right;\">\n",
       "      <th></th>\n",
       "      <th>country</th>\n",
       "      <th>drives_right</th>\n",
       "      <th>cars_per_cap</th>\n",
       "    </tr>\n",
       "  </thead>\n",
       "  <tbody>\n",
       "    <tr>\n",
       "      <th>AUS</th>\n",
       "      <td>Australia</td>\n",
       "      <td>False</td>\n",
       "      <td>731</td>\n",
       "    </tr>\n",
       "    <tr>\n",
       "      <th>JP</th>\n",
       "      <td>Japan</td>\n",
       "      <td>False</td>\n",
       "      <td>588</td>\n",
       "    </tr>\n",
       "    <tr>\n",
       "      <th>IN</th>\n",
       "      <td>India</td>\n",
       "      <td>False</td>\n",
       "      <td>18</td>\n",
       "    </tr>\n",
       "  </tbody>\n",
       "</table>\n",
       "</div>"
      ],
      "text/plain": [
       "       country  drives_right  cars_per_cap\n",
       "AUS  Australia         False           731\n",
       "JP       Japan         False           588\n",
       "IN       India         False            18"
      ]
     },
     "execution_count": 15,
     "metadata": {},
     "output_type": "execute_result"
    }
   ],
   "source": [
    "# Indexing and selecting data from dataframes\n",
    "## Column Access\n",
    "cars[\"country\"]\n",
    "\n",
    "type(cars[\"country\"])\n",
    "\n",
    "# To select the 'country' column but keep the data as a dataframe, use double brackets\n",
    "# type(cars[[\"country\"]])\n",
    "cars[[\"country\"]]\n",
    "cars[[\"country\", \"cars_per_cap\"]]\n",
    "\n",
    "cars[1:4]"
   ]
  },
  {
   "cell_type": "code",
   "execution_count": 16,
   "id": "95968349-9eac-43bc-b430-d98a3d257afb",
   "metadata": {},
   "outputs": [
    {
     "name": "stdout",
     "output_type": "stream",
     "text": [
      "         country    capital    area  population\n",
      "BR        Brazil   Brasilia   8.516      200.40\n",
      "RU        Russia     Moscow  17.100      143.50\n",
      "IN         India  New Delhi   3.286     1252.00\n",
      "CH         China    Beijing   9.597     1357.00\n",
      "SA  South Africa   Pretoria   1.221       52.98\n"
     ]
    }
   ],
   "source": [
    "# Accessing data with 'loc'/'iloc'\n",
    "data = {\n",
    "    'country': ['Brazil', 'Russia', 'India', 'China', 'South Africa'],\n",
    "    'capital': ['Brasilia', 'Moscow', 'New Delhi', 'Beijing', 'Pretoria'],\n",
    "    'area': [8.516, 17.1, 3.286, 9.597, 1.221],\n",
    "    'population': [200.4, 143.5, 1252, 1357, 52.98]}\n",
    "\n",
    "brics = pd.DataFrame(data)\n",
    "brics.index = ['BR', 'RU', 'IN', 'CH', 'SA']\n",
    "\n",
    "print(brics)"
   ]
  },
  {
   "cell_type": "code",
   "execution_count": 29,
   "id": "d94f1bc8-e451-4fba-b451-ecc2b7f4fb2c",
   "metadata": {},
   "outputs": [
    {
     "data": {
      "text/html": [
       "<div>\n",
       "<style scoped>\n",
       "    .dataframe tbody tr th:only-of-type {\n",
       "        vertical-align: middle;\n",
       "    }\n",
       "\n",
       "    .dataframe tbody tr th {\n",
       "        vertical-align: top;\n",
       "    }\n",
       "\n",
       "    .dataframe thead th {\n",
       "        text-align: right;\n",
       "    }\n",
       "</style>\n",
       "<table border=\"1\" class=\"dataframe\">\n",
       "  <thead>\n",
       "    <tr style=\"text-align: right;\">\n",
       "      <th></th>\n",
       "      <th>country</th>\n",
       "      <th>capital</th>\n",
       "    </tr>\n",
       "  </thead>\n",
       "  <tbody>\n",
       "    <tr>\n",
       "      <th>BR</th>\n",
       "      <td>Brazil</td>\n",
       "      <td>Brasilia</td>\n",
       "    </tr>\n",
       "    <tr>\n",
       "      <th>RU</th>\n",
       "      <td>Russia</td>\n",
       "      <td>Moscow</td>\n",
       "    </tr>\n",
       "    <tr>\n",
       "      <th>IN</th>\n",
       "      <td>India</td>\n",
       "      <td>New Delhi</td>\n",
       "    </tr>\n",
       "    <tr>\n",
       "      <th>CH</th>\n",
       "      <td>China</td>\n",
       "      <td>Beijing</td>\n",
       "    </tr>\n",
       "    <tr>\n",
       "      <th>SA</th>\n",
       "      <td>South Africa</td>\n",
       "      <td>Pretoria</td>\n",
       "    </tr>\n",
       "  </tbody>\n",
       "</table>\n",
       "</div>"
      ],
      "text/plain": [
       "         country    capital\n",
       "BR        Brazil   Brasilia\n",
       "RU        Russia     Moscow\n",
       "IN         India  New Delhi\n",
       "CH         China    Beijing\n",
       "SA  South Africa   Pretoria"
      ]
     },
     "execution_count": 29,
     "metadata": {},
     "output_type": "execute_result"
    }
   ],
   "source": [
    "# 'loc' is label-based\n",
    "brics.loc[\"RU\"]  # returns all data from \"RU\" row\n",
    "brics.loc[[\"RU\"]] # returns all data from \"RU\" row as a data frame\n",
    "\n",
    "brics.loc[[\"RU\", \"IN\", \"CH\"]] # returns all specified rows as a data frame\n",
    "\n",
    "brics.loc[[\"RU\", \"IN\", \"CH\"], [\"country\", \"capital\"]] # returns all specified rows and columns as a data frame\n",
    "\n",
    "brics.loc[:, [\"country\", \"capital\"]] # returns all rows and specified columns as a data frame\n",
    "# brics.loc[[\"country\", \"capital\"]] -- wanted to see if this would work like the line just before. it doesn't"
   ]
  },
  {
   "cell_type": "code",
   "execution_count": 34,
   "id": "ff9d396d-3117-408d-956f-2b4615fc6ec5",
   "metadata": {},
   "outputs": [
    {
     "data": {
      "text/html": [
       "<div>\n",
       "<style scoped>\n",
       "    .dataframe tbody tr th:only-of-type {\n",
       "        vertical-align: middle;\n",
       "    }\n",
       "\n",
       "    .dataframe tbody tr th {\n",
       "        vertical-align: top;\n",
       "    }\n",
       "\n",
       "    .dataframe thead th {\n",
       "        text-align: right;\n",
       "    }\n",
       "</style>\n",
       "<table border=\"1\" class=\"dataframe\">\n",
       "  <thead>\n",
       "    <tr style=\"text-align: right;\">\n",
       "      <th></th>\n",
       "      <th>country</th>\n",
       "      <th>capital</th>\n",
       "    </tr>\n",
       "  </thead>\n",
       "  <tbody>\n",
       "    <tr>\n",
       "      <th>BR</th>\n",
       "      <td>Brazil</td>\n",
       "      <td>Brasilia</td>\n",
       "    </tr>\n",
       "    <tr>\n",
       "      <th>RU</th>\n",
       "      <td>Russia</td>\n",
       "      <td>Moscow</td>\n",
       "    </tr>\n",
       "    <tr>\n",
       "      <th>IN</th>\n",
       "      <td>India</td>\n",
       "      <td>New Delhi</td>\n",
       "    </tr>\n",
       "    <tr>\n",
       "      <th>CH</th>\n",
       "      <td>China</td>\n",
       "      <td>Beijing</td>\n",
       "    </tr>\n",
       "    <tr>\n",
       "      <th>SA</th>\n",
       "      <td>South Africa</td>\n",
       "      <td>Pretoria</td>\n",
       "    </tr>\n",
       "  </tbody>\n",
       "</table>\n",
       "</div>"
      ],
      "text/plain": [
       "         country    capital\n",
       "BR        Brazil   Brasilia\n",
       "RU        Russia     Moscow\n",
       "IN         India  New Delhi\n",
       "CH         China    Beijing\n",
       "SA  South Africa   Pretoria"
      ]
     },
     "execution_count": 34,
     "metadata": {},
     "output_type": "execute_result"
    }
   ],
   "source": [
    "# 'iloc' is integer position-based\n",
    "brics.iloc[[1]]\n",
    "brics.iloc[[1,2,3]]  # note: brics.iloc[[1:4]] doesn't work\n",
    "brics.iloc[[1,2,3],[0,1]]\n",
    "brics.iloc[:, [0,1]]"
   ]
  },
  {
   "cell_type": "code",
   "execution_count": 20,
   "id": "3e4117bf-b935-4341-a258-3eb1c6c297fd",
   "metadata": {},
   "outputs": [
    {
     "name": "stdout",
     "output_type": "stream",
     "text": [
      "[False  True False  True]\n",
      "[False False False  True]\n"
     ]
    }
   ],
   "source": [
    "import numpy as np\n",
    "\n",
    "# Comparison Operators\n",
    "my_house = np.array([18.0, 20.0, 10.75, 9.5])\n",
    "your_house = np.array([14.0, 24.0, 14.25, 9.0])\n",
    "\n",
    "# 'logical_and', 'logical_or', and 'logical_not' are how we use 'and', 'or', and 'not' with numpy arrays\n",
    "# my_house greater than 18.5 or smaller than 10\n",
    "print(np.logical_or(my_house>18.5, my_house<10))\n",
    "\n",
    "# Both my_house and your_house smaller than 11\n",
    "print(np.logical_and(my_house < 11, your_house < 11))"
   ]
  },
  {
   "cell_type": "code",
   "execution_count": 12,
   "id": "12ab9d3b-6410-49b0-ab35-14765405571f",
   "metadata": {},
   "outputs": [
    {
     "name": "stdout",
     "output_type": "stream",
     "text": [
      "checking 6\n",
      "6 is divisible by 2\n"
     ]
    }
   ],
   "source": [
    "# if, elif, else\n",
    "# This control flow ends with the first true statement. So, for example, it will display '6 is divisible by 2' even though 6 is true for both conditions\n",
    "z = 6\n",
    "print((\"checking \") + str(z))\n",
    "if z % 2 == 0:\n",
    "    print(str(z) + \" is divisible by 2\")\n",
    "elif z % 3 == 0:\n",
    "    print(str(z) + \" is divisible by 3\")\n",
    "else :\n",
    "    print(str(z) + \" is neither divisible by 2 nor by 3\")"
   ]
  },
  {
   "cell_type": "code",
   "execution_count": 19,
   "id": "d94dcfde-939f-43b3-b9f7-465195b6c754",
   "metadata": {},
   "outputs": [
    {
     "data": {
      "text/html": [
       "<div>\n",
       "<style scoped>\n",
       "    .dataframe tbody tr th:only-of-type {\n",
       "        vertical-align: middle;\n",
       "    }\n",
       "\n",
       "    .dataframe tbody tr th {\n",
       "        vertical-align: top;\n",
       "    }\n",
       "\n",
       "    .dataframe thead th {\n",
       "        text-align: right;\n",
       "    }\n",
       "</style>\n",
       "<table border=\"1\" class=\"dataframe\">\n",
       "  <thead>\n",
       "    <tr style=\"text-align: right;\">\n",
       "      <th></th>\n",
       "      <th>country</th>\n",
       "      <th>capital</th>\n",
       "      <th>area</th>\n",
       "      <th>population</th>\n",
       "    </tr>\n",
       "  </thead>\n",
       "  <tbody>\n",
       "    <tr>\n",
       "      <th>BR</th>\n",
       "      <td>Brazil</td>\n",
       "      <td>Brasilia</td>\n",
       "      <td>8.516</td>\n",
       "      <td>200.4</td>\n",
       "    </tr>\n",
       "    <tr>\n",
       "      <th>RU</th>\n",
       "      <td>Russia</td>\n",
       "      <td>Moscow</td>\n",
       "      <td>17.100</td>\n",
       "      <td>143.5</td>\n",
       "    </tr>\n",
       "    <tr>\n",
       "      <th>CH</th>\n",
       "      <td>China</td>\n",
       "      <td>Beijing</td>\n",
       "      <td>9.597</td>\n",
       "      <td>1357.0</td>\n",
       "    </tr>\n",
       "  </tbody>\n",
       "</table>\n",
       "</div>"
      ],
      "text/plain": [
       "   country   capital    area  population\n",
       "BR  Brazil  Brasilia   8.516       200.4\n",
       "RU  Russia    Moscow  17.100       143.5\n",
       "CH   China   Beijing   9.597      1357.0"
      ]
     },
     "execution_count": 19,
     "metadata": {},
     "output_type": "execute_result"
    }
   ],
   "source": [
    "# Filtering pandas dataframes\n",
    "# From the brics dataframe, we want to select countries with an area over 8 million km2\n",
    "# is_huge = brics[\"area\"] > 8\n",
    "# brics[is_huge]\n",
    "\n",
    "brics[brics[\"area\"] > 8]"
   ]
  },
  {
   "cell_type": "code",
   "execution_count": 22,
   "id": "11aaf56a-e5a1-4074-8ec2-b339f4e6a489",
   "metadata": {},
   "outputs": [
    {
     "data": {
      "text/html": [
       "<div>\n",
       "<style scoped>\n",
       "    .dataframe tbody tr th:only-of-type {\n",
       "        vertical-align: middle;\n",
       "    }\n",
       "\n",
       "    .dataframe tbody tr th {\n",
       "        vertical-align: top;\n",
       "    }\n",
       "\n",
       "    .dataframe thead th {\n",
       "        text-align: right;\n",
       "    }\n",
       "</style>\n",
       "<table border=\"1\" class=\"dataframe\">\n",
       "  <thead>\n",
       "    <tr style=\"text-align: right;\">\n",
       "      <th></th>\n",
       "      <th>country</th>\n",
       "      <th>capital</th>\n",
       "      <th>area</th>\n",
       "      <th>population</th>\n",
       "    </tr>\n",
       "  </thead>\n",
       "  <tbody>\n",
       "    <tr>\n",
       "      <th>BR</th>\n",
       "      <td>Brazil</td>\n",
       "      <td>Brasilia</td>\n",
       "      <td>8.516</td>\n",
       "      <td>200.4</td>\n",
       "    </tr>\n",
       "    <tr>\n",
       "      <th>CH</th>\n",
       "      <td>China</td>\n",
       "      <td>Beijing</td>\n",
       "      <td>9.597</td>\n",
       "      <td>1357.0</td>\n",
       "    </tr>\n",
       "  </tbody>\n",
       "</table>\n",
       "</div>"
      ],
      "text/plain": [
       "   country   capital   area  population\n",
       "BR  Brazil  Brasilia  8.516       200.4\n",
       "CH   China   Beijing  9.597      1357.0"
      ]
     },
     "execution_count": 22,
     "metadata": {},
     "output_type": "execute_result"
    }
   ],
   "source": [
    "brics[np.logical_and(brics[\"area\"] > 8, brics[\"area\"] < 10)]"
   ]
  },
  {
   "cell_type": "code",
   "execution_count": 1,
   "id": "3a68e054-441a-4e3b-b609-0ee5aac637e3",
   "metadata": {},
   "outputs": [
    {
     "name": "stdout",
     "output_type": "stream",
     "text": [
      "12.5\n",
      "3.125\n",
      "0.78125\n"
     ]
    }
   ],
   "source": [
    "# 'while' loop\n",
    "# while condition :\n",
    "#       expression\n",
    "error = 50\n",
    "while error > 1 :\n",
    "    error = error / 4   # need to make sure error is updated\n",
    "    print(error)"
   ]
  },
  {
   "cell_type": "code",
   "execution_count": 2,
   "id": "abe4568b-8193-4592-82ae-7f2e66193c26",
   "metadata": {},
   "outputs": [
    {
     "name": "stdout",
     "output_type": "stream",
     "text": [
      "1.73\n",
      "1.68\n",
      "1.71\n",
      "1.89\n"
     ]
    }
   ],
   "source": [
    "# 'for' loop\n",
    "fam = [1.73, 1.68, 1.71, 1.89]\n",
    "\n",
    "for ht in fam :\n",
    "    print(ht)"
   ]
  },
  {
   "cell_type": "code",
   "execution_count": 4,
   "id": "5e89f5a4-8336-443d-af62-41239080a709",
   "metadata": {},
   "outputs": [
    {
     "name": "stdout",
     "output_type": "stream",
     "text": [
      "index 0: 1.73\n",
      "index 1: 1.68\n",
      "index 2: 1.71\n",
      "index 3: 1.89\n"
     ]
    }
   ],
   "source": [
    "# Suppose in addition to the heights, we also wanted to print out the index\n",
    "# Using 'enumerate' produces the index of the value as well as the value\n",
    "for index, ht in enumerate(fam) :\n",
    "    print(\"index \" + str(index) + \": \" + str(ht))"
   ]
  },
  {
   "cell_type": "code",
   "execution_count": 5,
   "id": "017fcf29-f939-4987-a6ca-07b53eb55279",
   "metadata": {},
   "outputs": [
    {
     "name": "stdout",
     "output_type": "stream",
     "text": [
      "F\n",
      "A\n",
      "M\n",
      "I\n",
      "L\n",
      "Y\n"
     ]
    }
   ],
   "source": [
    "# We can also loop over a string\n",
    "for c in 'family' :\n",
    "    print(c.capitalize())"
   ]
  },
  {
   "cell_type": "code",
   "execution_count": 6,
   "id": "0030350d-841f-48a1-8db3-5561a222f998",
   "metadata": {},
   "outputs": [
    {
     "name": "stdout",
     "output_type": "stream",
     "text": [
      "afghanistan -- 30.55\n",
      "albania -- 2.77\n",
      "algeria -- 39.21\n"
     ]
    }
   ],
   "source": [
    "# Loop data structures (dictionaries, NumPy arrays) - Dictionary\n",
    "world = {\n",
    "    'afghanistan':30.55,\n",
    "    'albania':2.77,\n",
    "    'algeria':39.21 }\n",
    "\n",
    "for key, value in world.items() :\n",
    "    print(key + \" -- \" + str(value))"
   ]
  },
  {
   "cell_type": "code",
   "execution_count": 9,
   "id": "a75f1063-0f10-4188-a20c-10ab7ab2002a",
   "metadata": {},
   "outputs": [
    {
     "name": "stdout",
     "output_type": "stream",
     "text": [
      "21.85171572722109\n",
      "20.97505668934241\n",
      "21.750282138093777\n",
      "24.74734749867025\n",
      "21.44127836209856\n",
      "1.73\n",
      "1.68\n",
      "1.71\n",
      "1.89\n",
      "1.79\n",
      "65.4\n",
      "59.2\n",
      "63.6\n",
      "88.4\n",
      "68.7\n"
     ]
    }
   ],
   "source": [
    "# Loop data structures (dictionaries, NumPy arrays) - NumPy array\n",
    "import numpy as np\n",
    "\n",
    "np_height = np.array([1.73, 1.68, 1.71, 1.89, 1.79])\n",
    "np_weight = np.array([65.4, 59.2, 63.6, 88.4, 68.7])\n",
    "bmi = np_weight / np_height**2\n",
    "\n",
    "for val in bmi :\n",
    "    print(val)\n",
    "\n",
    "# Loop data structures (dictionaries, NumPy arrays) - 2D NumPy array\n",
    "meas = np.array([np_height, np_weight])\n",
    "for val in np.nditer(meas) :\n",
    "    print(val)"
   ]
  },
  {
   "cell_type": "code",
   "execution_count": 12,
   "id": "73d8ee52-9f17-4ae9-914f-7322437b60b8",
   "metadata": {},
   "outputs": [
    {
     "name": "stdout",
     "output_type": "stream",
     "text": [
      "country\n",
      "drives_right\n",
      "cars_per_cap\n"
     ]
    }
   ],
   "source": [
    "# Loop data structures (dictionaries, NumPy arrays) - pandas dataframe\n",
    "for val in cars :\n",
    "    print(val)\n",
    "# This will simply print out the column names. We have to specify that we want to iterrate over the rows using the 'iterrows' method on the cars dataframe"
   ]
  },
  {
   "cell_type": "code",
   "execution_count": 17,
   "id": "0e83b3c9-fe9f-4f50-975a-5cbca0aff7fe",
   "metadata": {},
   "outputs": [
    {
     "name": "stdout",
     "output_type": "stream",
     "text": [
      "US\n",
      "country         United States\n",
      "drives_right             True\n",
      "cars_per_cap              809\n",
      "Name: US, dtype: object\n",
      "AUS\n",
      "country         Australia\n",
      "drives_right        False\n",
      "cars_per_cap          731\n",
      "Name: AUS, dtype: object\n",
      "JP\n",
      "country         Japan\n",
      "drives_right    False\n",
      "cars_per_cap      588\n",
      "Name: JP, dtype: object\n",
      "IN\n",
      "country         India\n",
      "drives_right    False\n",
      "cars_per_cap       18\n",
      "Name: IN, dtype: object\n",
      "RU\n",
      "country         Russia\n",
      "drives_right      True\n",
      "cars_per_cap       200\n",
      "Name: RU, dtype: object\n",
      "MOR\n",
      "country         Morocco\n",
      "drives_right       True\n",
      "cars_per_cap         70\n",
      "Name: MOR, dtype: object\n",
      "EGY\n",
      "country         Egypt\n",
      "drives_right     True\n",
      "cars_per_cap       45\n",
      "Name: EGY, dtype: object\n"
     ]
    }
   ],
   "source": [
    "for lab, row in cars.iterrows() :\n",
    "    print(lab) # print the row label\n",
    "    print(row) # print the row data"
   ]
  },
  {
   "cell_type": "code",
   "execution_count": 19,
   "id": "fbb7b25a-51bf-4015-81b0-cd79591272a9",
   "metadata": {},
   "outputs": [
    {
     "name": "stdout",
     "output_type": "stream",
     "text": [
      "US: 809 cars per capita\n",
      "AUS: 731 cars per capita\n",
      "JP: 588 cars per capita\n",
      "IN: 18 cars per capita\n",
      "RU: 200 cars per capita\n",
      "MOR: 70 cars per capita\n",
      "EGY: 45 cars per capita\n"
     ]
    }
   ],
   "source": [
    "for lab, row in cars.iterrows() :\n",
    "    print(lab + \": \" + str(row[\"cars_per_cap\"]) + \" cars per capita\") # print selective data"
   ]
  },
  {
   "cell_type": "code",
   "execution_count": 20,
   "id": "5ca4f8f2-cc08-4daa-b10c-662c8eac3140",
   "metadata": {},
   "outputs": [
    {
     "name": "stdout",
     "output_type": "stream",
     "text": [
      "           country  drives_right  cars_per_cap  name_length\n",
      "US   United States          True           809         13.0\n",
      "AUS      Australia         False           731          9.0\n",
      "JP           Japan         False           588          5.0\n",
      "IN           India         False            18          5.0\n",
      "RU          Russia          True           200          6.0\n",
      "MOR        Morocco          True            70          7.0\n",
      "EGY          Egypt          True            45          5.0\n"
     ]
    }
   ],
   "source": [
    "# Add column 'name_length' after every iteration\n",
    "for lab, row in cars.iterrows() :\n",
    "    # Creating series on every iterration\n",
    "    cars.loc[lab, \"name_length\"] = len(row[\"country\"])\n",
    "print(cars)"
   ]
  },
  {
   "cell_type": "code",
   "execution_count": 22,
   "id": "427b3d04-ac3e-4a97-b9c7-68e72da7a9d9",
   "metadata": {},
   "outputs": [
    {
     "name": "stdout",
     "output_type": "stream",
     "text": [
      "           country  drives_right  cars_per_cap  name_length        COUNTRY\n",
      "US   United States          True           809           13  UNITED STATES\n",
      "AUS      Australia         False           731            9      AUSTRALIA\n",
      "JP           Japan         False           588            5          JAPAN\n",
      "IN           India         False            18            5          INDIA\n",
      "RU          Russia          True           200            6         RUSSIA\n",
      "MOR        Morocco          True            70            7        MOROCCO\n",
      "EGY          Egypt          True            45            5          EGYPT\n"
     ]
    }
   ],
   "source": [
    "# This works for a small dataframe but is pretty inefficient if we're dealing with a large dataframe. A more efficient method would be using the 'apply' function.\n",
    "cars[\"name_length\"] = cars[\"country\"].apply(len)\n",
    "cars[\"COUNTRY\"] = cars[\"country\"].apply(str.upper)\n",
    "print(cars)"
   ]
  },
  {
   "cell_type": "code",
   "execution_count": 23,
   "id": "ff80f304-0979-4763-a837-002364130c2c",
   "metadata": {},
   "outputs": [
    {
     "name": "stdout",
     "output_type": "stream",
     "text": [
      "0\n",
      "heads\n"
     ]
    }
   ],
   "source": [
    "# Random Numbers - Coin toss game\n",
    "import numpy as np\n",
    "np.random.seed(123)\n",
    "\n",
    "coin = np.random.randint(0,2) # Randomly generate 0 or 1\n",
    "print(coin)\n",
    "if coin == 0:\n",
    "    print(\"heads\")\n",
    "else:\n",
    "    print(tails)"
   ]
  },
  {
   "cell_type": "code",
   "execution_count": 30,
   "id": "1b5226d5-8b50-4739-a424-29b5bdb69b19",
   "metadata": {},
   "outputs": [
    {
     "name": "stdout",
     "output_type": "stream",
     "text": [
      "4\n",
      "51\n"
     ]
    }
   ],
   "source": [
    "# Random Numbers - Empire State Building Game (1 round)\n",
    "import numpy as np\n",
    "np.random.seed(1234)\n",
    "\n",
    "step = 50\n",
    "dice_roll = np.random.randint(1,7)\n",
    "\n",
    "if dice_roll <= 2 :\n",
    "    step = step - 1\n",
    "elif dice_roll < 6 :\n",
    "    step = step + 1\n",
    "else :\n",
    "    step = step + np.random.randint(1,7)\n",
    "\n",
    "print(dice_roll)\n",
    "print(step)\n"
   ]
  },
  {
   "cell_type": "code",
   "execution_count": 33,
   "id": "160da1e8-1ef5-4d4e-a955-4a1667937405",
   "metadata": {},
   "outputs": [
    {
     "name": "stdout",
     "output_type": "stream",
     "text": [
      "['heads', 'tails', 'heads', 'heads', 'heads', 'heads', 'heads', 'tails', 'tails', 'heads']\n"
     ]
    }
   ],
   "source": [
    "# Random List - Heads or tails\n",
    "np.random.seed(123)\n",
    "outcomes = []\n",
    "for x in range(10) :\n",
    "    coin = np.random.randint(0,2)\n",
    "    if coin == 0 :\n",
    "        outcomes.append(\"heads\")\n",
    "    else :\n",
    "        outcomes.append(\"tails\")\n",
    "\n",
    "print(outcomes) # This list is just a random list -- each subsequent item in the list is not dependent on the previous item in the list"
   ]
  },
  {
   "cell_type": "code",
   "execution_count": 32,
   "id": "855cacb4-42a8-41e0-a69d-eb91bf346b09",
   "metadata": {},
   "outputs": [
    {
     "name": "stdout",
     "output_type": "stream",
     "text": [
      "[0, 0, 1, 1, 1, 1, 1, 1, 2, 3, 3]\n"
     ]
    }
   ],
   "source": [
    "# Random Walk - Heads or tails\n",
    "np.random.seed(123)\n",
    "tails = [0]\n",
    "for x in range(10) :\n",
    "    coin = np.random.randint(0,2)\n",
    "    tails.append(tails[x] + coin)\n",
    "\n",
    "print(tails) # This list is a random walk -- it tells us how many 'tails' we've thrown with each toss of a coin"
   ]
  },
  {
   "cell_type": "code",
   "execution_count": 36,
   "id": "2b8fb22e-d99e-4336-89fc-8c8f456c91d2",
   "metadata": {},
   "outputs": [
    {
     "name": "stdout",
     "output_type": "stream",
     "text": [
      "[0, 3, 4, 5, 4, 5, 6, 7, 6, 5, 4, 3, 2, 1, 0, 0, 1, 6, 5, 4, 5, 4, 5, 6, 7, 8, 9, 8, 9, 8, 9, 10, 11, 12, 11, 15, 16, 15, 16, 15, 16, 17, 18, 19, 20, 21, 22, 25, 26, 27, 28, 33, 34, 38, 39, 38, 39, 40, 39, 40, 41, 43, 44, 45, 44, 43, 44, 45, 44, 43, 44, 45, 47, 46, 45, 46, 45, 46, 47, 48, 50, 49, 50, 51, 52, 53, 54, 53, 52, 53, 52, 53, 54, 53, 56, 57, 58, 59, 58, 59, 60]\n"
     ]
    },
    {
     "data": {
      "image/png": "[encoded data removed]",
      "text/plain": [
       "<Figure size 640x480 with 1 Axes>"
      ]
     },
     "metadata": {},
     "output_type": "display_data"
    }
   ],
   "source": [
    "# Random Walk - 100 steps\n",
    "np.random.seed(123)\n",
    "\n",
    "random_walk = [0] # Initialize our random walk at 0\n",
    "\n",
    "for x in range(100) :\n",
    "    # set step as the last element in random_walk\n",
    "    step = random_walk[-1] \n",
    "\n",
    "    # roll the dice\n",
    "    dice_roll = np.random.randint(1,7)\n",
    "\n",
    "    # determine next step\n",
    "    if dice_roll <= 2 : \n",
    "        step = max(step - 1, 0) # ensure we never go below step 0\n",
    "    elif dice_roll < 6 :\n",
    "        step = step + 1\n",
    "    else :\n",
    "        step = step + np.random.randint(1,7)\n",
    "\n",
    "    # append next step to random walk\n",
    "    random_walk.append(step)\n",
    "\n",
    "# Print random walk\n",
    "print(random_walk)\n",
    "\n",
    "# Visualize the random walk\n",
    "import matplotlib.pyplot as plt\n",
    "plt.plot(random_walk)\n",
    "plt.show()"
   ]
  },
  {
   "cell_type": "code",
   "execution_count": 46,
   "id": "e15f87bd-c552-42e1-bf0b-3daa4c1b31d6",
   "metadata": {},
   "outputs": [
    {
     "data": {
      "image/png": "[encoded data removed]",
      "text/plain": [
       "<Figure size 640x480 with 1 Axes>"
      ]
     },
     "metadata": {},
     "output_type": "display_data"
    }
   ],
   "source": [
    "# Distribution - Count number of tails in 10 coin tosses. Perform 100 times\n",
    "import numpy as np\n",
    "import matplotlib.pyplot as plt\n",
    "\n",
    "np.random.seed(123)\n",
    "\n",
    "final_tails = []\n",
    "\n",
    "for x in range(10000) :\n",
    "    tails = [0]\n",
    "    for x in range(10) :\n",
    "        coin = np.random.randint(0,2)\n",
    "        tails.append(tails[x] + coin)\n",
    "    final_tails.append(tails[-1])\n",
    "\n",
    "#print(final_tails)\n",
    "\n",
    "# Histogram - 100 runs\n",
    "plt.hist(final_tails, bins = 10)\n",
    "plt.show()"
   ]
  },
  {
   "cell_type": "code",
   "execution_count": 50,
   "id": "8d3c7cfc-d466-4abe-abd0-270d83228c01",
   "metadata": {},
   "outputs": [
    {
     "data": {
      "image/png": "[encoded data removed]",
      "text/plain": [
       "<Figure size 640x480 with 1 Axes>"
      ]
     },
     "metadata": {},
     "output_type": "display_data"
    }
   ],
   "source": [
    "# Random Walk - Empire State Building Game\n",
    "import numpy as np\n",
    "import matplotlib.pyplot as plt\n",
    "np.random.seed(123)\n",
    "\n",
    "# Initialize all_walks (don't change this line)\n",
    "all_walks = []\n",
    "\n",
    "# Simulate random walk five times\n",
    "for i in range(5) :\n",
    "\n",
    "    # Code from before\n",
    "    random_walk = [0]\n",
    "    for x in range(100) :\n",
    "        step = random_walk[-1]\n",
    "        dice = np.random.randint(1,7)\n",
    "\n",
    "        if dice <= 2:\n",
    "            step = max(0, step - 1)\n",
    "        elif dice <= 5:\n",
    "            step = step + 1\n",
    "        else:\n",
    "            step = step + np.random.randint(1,7)\n",
    "        random_walk.append(step)\n",
    "\n",
    "    # Append random_walk to all_walks\n",
    "    all_walks.append(random_walk)\n",
    "\n",
    "# Print all_walks\n",
    "# print(all_walks)\n",
    "\n",
    "# Visualize all of our walks: all_walks is a list of lists -- every step of 5 different random walks. We can plot this after converting all_walks to a numpy array\n",
    "# Convert all_walks to NumPy array: np_aw\n",
    "np_aw = np.array(all_walks)\n",
    "\n",
    "# Plot np_aw and show\n",
    "#plt.plot(np_aw)\n",
    "#plt.show()\n",
    "\n",
    "# Clear the figure\n",
    "#plt.clf()\n",
    "\n",
    "# Transpose np_aw: np_aw_t - now every row in np_aw_t represents the position after 1 throw for each of our 5 walks\n",
    "np_aw_t = np.transpose(np_aw)\n",
    "\n",
    "# Plot np_aw_t and show - we should now be able to visualize each of our 5 random walks\n",
    "plt.plot(np_aw_t)\n",
    "plt.show()"
   ]
  },
  {
   "cell_type": "code",
   "execution_count": 53,
   "id": "ef0cf887-f8b0-4bb4-b0fb-29122c17ec46",
   "metadata": {},
   "outputs": [
    {
     "data": {
      "image/png": "[encoded data removed]",
      "text/plain": [
       "<Figure size 640x480 with 1 Axes>"
      ]
     },
     "metadata": {},
     "output_type": "display_data"
    }
   ],
   "source": [
    "# Random Walk - Empire State Building Game, implement clumsiness\n",
    "import numpy as np\n",
    "import matplotlib.pyplot as plt\n",
    "np.random.seed(123)\n",
    "\n",
    "# clear the plot so it doesn't get cluttered if you run this many times\n",
    "plt.clf()\n",
    "\n",
    "# Simulate random walk 10 times\n",
    "all_walks = []\n",
    "for i in range(10) :\n",
    "    random_walk = [0]\n",
    "    for x in range(100) :\n",
    "        step = random_walk[-1]\n",
    "        dice = np.random.randint(1,7)\n",
    "        if dice <= 2:\n",
    "            step = max(0, step - 1)\n",
    "        elif dice <= 5:\n",
    "            step = step + 1\n",
    "        else:\n",
    "            step = step + np.random.randint(1,7)\n",
    "\n",
    "        # Implement clumsiness\n",
    "        if np.random.rand() < 0.005 :\n",
    "            step = 0\n",
    "\n",
    "        random_walk.append(step)\n",
    "    all_walks.append(random_walk)\n",
    "\n",
    "# Create and plot np_aw_t\n",
    "np_aw_t = np.transpose(np.array(all_walks))\n",
    "plt.plot(np_aw_t)\n",
    "plt.show()"
   ]
  },
  {
   "cell_type": "code",
   "execution_count": 58,
   "id": "22e58112-e5b4-4ac9-a3e8-4ada870bdf21",
   "metadata": {},
   "outputs": [
    {
     "data": {
      "image/png": "[encoded data removed]",
      "text/plain": [
       "<Figure size 640x480 with 1 Axes>"
      ]
     },
     "metadata": {},
     "output_type": "display_data"
    },
    {
     "name": "stdout",
     "output_type": "stream",
     "text": [
      "0.7748\n"
     ]
    }
   ],
   "source": [
    "# Random Walk - Empire State Building Game, simulate and plot endpoints\n",
    "# Simulate random walk 10,000 times\n",
    "all_walks = []\n",
    "for i in range(10000) :\n",
    "    random_walk = [0]\n",
    "    for x in range(100) :\n",
    "        step = random_walk[-1]\n",
    "        dice = np.random.randint(1,7)\n",
    "        if dice <= 2:\n",
    "            step = max(0, step - 1)\n",
    "        elif dice <= 5:\n",
    "            step = step + 1\n",
    "        else:\n",
    "            step = step + np.random.randint(1,7)\n",
    "        if np.random.rand() <= 0.001 :\n",
    "            step = 0\n",
    "        random_walk.append(step)\n",
    "    all_walks.append(random_walk)\n",
    "\n",
    "# Create and plot np_aw_t\n",
    "np_aw_t = np.transpose(np.array(all_walks))\n",
    "\n",
    "# Select last row from np_aw_t: ends\n",
    "ends = np_aw_t[-1,:]\n",
    "\n",
    "# Plot histogram of ends, display plot\n",
    "plt.hist(ends)\n",
    "plt.show()\n",
    "\n",
    "# Count of walks that end with 60+\n",
    "count = np.sum(ends >= 60)\n",
    "print(count / 10000)"
   ]
  },
  {
   "cell_type": "code",
   "execution_count": null,
   "id": "70e10774-5c99-4411-8bdd-22b6f52fbcb1",
   "metadata": {},
   "outputs": [],
   "source": []
  }
 ],
 "metadata": {
  "kernelspec": {
   "display_name": "Python 3 (ipykernel)",
   "language": "python",
   "name": "python3"
  },
  "language_info": {
   "codemirror_mode": {
    "name": "ipython",
    "version": 3
   },
   "file_extension": ".py",
   "mimetype": "text/x-python",
   "name": "python",
   "nbconvert_exporter": "python",
   "pygments_lexer": "ipython3",
   "version": "3.13.5"
  }
 },
 "nbformat": 4,
 "nbformat_minor": 5
}
