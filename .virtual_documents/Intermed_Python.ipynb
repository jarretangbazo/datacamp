# Dictionary to DataFrame with Pandas
import pandas as pd

# Create Lists
names = ["United States", "Australia", "Japan", "India", "Russia", "Morocco", "Egypt"]
dr = [True, False, False, False, True, True, True]
cpc = [809, 731, 588, 18, 200, 70, 45]

# Create Dictionary
my_dict = {
    'country': names,
    'drives_right': dr,
    'cars_per_cap': cpc
}

# Create DataFrame
cars = pd.DataFrame(my_dict)
print(cars)


# Define Row Labels
row_labels = ["US", "AUS", "JP", "IN", "RU", "MOR", "EGY"]
cars.index = row_labels
print(cars)


# Indexing and selecting data from dataframes
## Column Access
cars["country"]

type(cars["country"])

# To select the 'country' column but keep the data as a dataframe, use double brackets
# type(cars[["country"]])
cars[["country"]]
cars[["country", "cars_per_cap"]]

cars[1:4]


# Accessing data with 'loc'/'iloc'
data = {
    'country': ['Brazil', 'Russia', 'India', 'China', 'South Africa'],
    'capital': ['Brasilia', 'Moscow', 'New Delhi', 'Beijing', 'Pretoria'],
    'area': [8.516, 17.1, 3.286, 9.597, 1.221],
    'population': [200.4, 143.5, 1252, 1357, 52.98]}

brics = pd.DataFrame(data)
brics.index = ['BR', 'RU', 'IN', 'CH', 'SA']

print(brics)


# 'loc' is label-based
brics.loc["RU"]  # returns all data from "RU" row
brics.loc[["RU"]] # returns all data from "RU" row as a data frame

brics.loc[["RU", "IN", "CH"]] # returns all specified rows as a data frame

brics.loc[["RU", "IN", "CH"], ["country", "capital"]] # returns all specified rows and columns as a data frame

brics.loc[:, ["country", "capital"]] # returns all rows and specified columns as a data frame
# brics.loc[["country", "capital"]] -- wanted to see if this would work like the line just before. it doesn't


# 'iloc' is integer position-based
brics.iloc[[1]]
brics.iloc[[1,2,3]]  # note: brics.iloc[[1:4]] doesn't work
brics.iloc[[1,2,3],[0,1]]
brics.iloc[:, [0,1]]


import numpy as np

# Comparison Operators
my_house = np.array([18.0, 20.0, 10.75, 9.5])
your_house = np.array([14.0, 24.0, 14.25, 9.0])

# 'logical_and', 'logical_or', and 'logical_not' are how we use 'and', 'or', and 'not' with numpy arrays
# my_house greater than 18.5 or smaller than 10
print(np.logical_or(my_house>18.5, my_house<10))

# Both my_house and your_house smaller than 11
print(np.logical_and(my_house < 11, your_house < 11))


# if, elif, else
# This control flow ends with the first true statement. So, for example, it will display '6 is divisible by 2' even though 6 is true for both conditions
z = 6
print(("checking ") + str(z))
if z % 2 == 0:
    print(str(z) + " is divisible by 2")
elif z % 3 == 0:
    print(str(z) + " is divisible by 3")
else :
    print(str(z) + " is neither divisible by 2 nor by 3")


# Filtering pandas dataframes
# From the brics dataframe, we want to select countries with an area over 8 million km2
# is_huge = brics["area"] > 8
# brics[is_huge]

brics[brics["area"] > 8]


brics[np.logical_and(brics["area"] > 8, brics["area"] < 10)]


# 'while' loop
# while condition :
#       expression
error = 50
while error > 1 :
    error = error / 4   # need to make sure error is updated
    print(error)


# 'for' loop
fam = [1.73, 1.68, 1.71, 1.89]

for ht in fam :
    print(ht)


# Suppose in addition to the heights, we also wanted to print out the index
# Using 'enumerate' produces the index of the value as well as the value
for index, ht in enumerate(fam) :
    print("index " + str(index) + ": " + str(ht))


# We can also loop over a string
for c in 'family' :
    print(c.capitalize())


# Loop data structures (dictionaries, NumPy arrays) - Dictionary
world = {
    'afghanistan':30.55,
    'albania':2.77,
    'algeria':39.21 }

for key, value in world.items() :
    print(key + " -- " + str(value))


# Loop data structures (dictionaries, NumPy arrays) - NumPy array
import numpy as np

np_height = np.array([1.73, 1.68, 1.71, 1.89, 1.79])
np_weight = np.array([65.4, 59.2, 63.6, 88.4, 68.7])
bmi = np_weight / np_height**2

for val in bmi :
    print(val)

# Loop data structures (dictionaries, NumPy arrays) - 2D NumPy array
meas = np.array([np_height, np_weight])
for val in np.nditer(meas) :
    print(val)


# Loop data structures (dictionaries, NumPy arrays) - pandas dataframe
for val in cars :
    print(val)
# This will simply print out the column names. We have to specify that we want to iterrate over the rows using the 'iterrows' method on the cars dataframe


for lab, row in cars.iterrows() :
    print(lab) # print the row label
    print(row) # print the row data


for lab, row in cars.iterrows() :
    print(lab + ": " + str(row["cars_per_cap"]) + " cars per capita") # print selective data


# Add column 'name_length' after every iteration
for lab, row in cars.iterrows() :
    # Creating series on every iterration
    cars.loc[lab, "name_length"] = len(row["country"])
print(cars)


# This works for a small dataframe but is pretty inefficient if we're dealing with a large dataframe. A more efficient method would be using the 'apply' function.
cars["name_length"] = cars["country"].apply(len)
cars["COUNTRY"] = cars["country"].apply(str.upper)
print(cars)


# Random Numbers - Coin toss game
import numpy as np
np.random.seed(123)

coin = np.random.randint(0,2) # Randomly generate 0 or 1
print(coin)
if coin == 0:
    print("heads")
else:
    print(tails)


# Random Numbers - Empire State Building Game (1 round)
import numpy as np
np.random.seed(1234)

step = 50
dice_roll = np.random.randint(1,7)

if dice_roll <= 2 :
    step = step - 1
elif dice_roll < 6 :
    step = step + 1
else :
    step = step + np.random.randint(1,7)

print(dice_roll)
print(step)



# Random List - Heads or tails
np.random.seed(123)
outcomes = []
for x in range(10) :
    coin = np.random.randint(0,2)
    if coin == 0 :
        outcomes.append("heads")
    else :
        outcomes.append("tails")

print(outcomes) # This list is just a random list -- each subsequent item in the list is not dependent on the previous item in the list


# Random Walk - Heads or tails
np.random.seed(123)
tails = [0]
for x in range(10) :
    coin = np.random.randint(0,2)
    tails.append(tails[x] + coin)

print(tails) # This list is a random walk -- it tells us how many 'tails' we've thrown with each toss of a coin


# Random Walk - 100 steps
np.random.seed(123)

random_walk = [0] # Initialize our random walk at 0

for x in range(100) :
    # set step as the last element in random_walk
    step = random_walk[-1] 

    # roll the dice
    dice_roll = np.random.randint(1,7)

    # determine next step
    if dice_roll <= 2 : 
        step = max(step - 1, 0) # ensure we never go below step 0
    elif dice_roll < 6 :
        step = step + 1
    else :
        step = step + np.random.randint(1,7)

    # append next step to random walk
    random_walk.append(step)

# Print random walk
print(random_walk)

# Visualize the random walk
import matplotlib.pyplot as plt
plt.plot(random_walk)
plt.show()


# Distribution - Count number of tails in 10 coin tosses. Perform 100 times
import numpy as np
import matplotlib.pyplot as plt

np.random.seed(123)

final_tails = []

for x in range(10000) :
    tails = [0]
    for x in range(10) :
        coin = np.random.randint(0,2)
        tails.append(tails[x] + coin)
    final_tails.append(tails[-1])

#print(final_tails)

# Histogram - 100 runs
plt.hist(final_tails, bins = 10)
plt.show()


# Random Walk - Empire State Building Game
import numpy as np
import matplotlib.pyplot as plt
np.random.seed(123)

# Initialize all_walks (don't change this line)
all_walks = []

# Simulate random walk five times
for i in range(5) :

    # Code from before
    random_walk = [0]
    for x in range(100) :
        step = random_walk[-1]
        dice = np.random.randint(1,7)

        if dice <= 2:
            step = max(0, step - 1)
        elif dice <= 5:
            step = step + 1
        else:
            step = step + np.random.randint(1,7)
        random_walk.append(step)

    # Append random_walk to all_walks
    all_walks.append(random_walk)

# Print all_walks
# print(all_walks)

# Visualize all of our walks: all_walks is a list of lists -- every step of 5 different random walks. We can plot this after converting all_walks to a numpy array
# Convert all_walks to NumPy array: np_aw
np_aw = np.array(all_walks)

# Plot np_aw and show
#plt.plot(np_aw)
#plt.show()

# Clear the figure
#plt.clf()

# Transpose np_aw: np_aw_t - now every row in np_aw_t represents the position after 1 throw for each of our 5 walks
np_aw_t = np.transpose(np_aw)

# Plot np_aw_t and show - we should now be able to visualize each of our 5 random walks
plt.plot(np_aw_t)
plt.show()


# Random Walk - Empire State Building Game, implement clumsiness
import numpy as np
import matplotlib.pyplot as plt
np.random.seed(123)

# clear the plot so it doesn't get cluttered if you run this many times
plt.clf()

# Simulate random walk 10 times
all_walks = []
for i in range(10) :
    random_walk = [0]
    for x in range(100) :
        step = random_walk[-1]
        dice = np.random.randint(1,7)
        if dice <= 2:
            step = max(0, step - 1)
        elif dice <= 5:
            step = step + 1
        else:
            step = step + np.random.randint(1,7)

        # Implement clumsiness
        if np.random.rand() < 0.005 :
            step = 0

        random_walk.append(step)
    all_walks.append(random_walk)

# Create and plot np_aw_t
np_aw_t = np.transpose(np.array(all_walks))
plt.plot(np_aw_t)
plt.show()


# Random Walk - Empire State Building Game, simulate and plot endpoints
# Simulate random walk 500 times
all_walks = []
for i in range(500) :
    random_walk = [0]
    for x in range(100) :
        step = random_walk[-1]
        dice = np.random.randint(1,7)
        if dice <= 2:
            step = max(0, step - 1)
        elif dice <= 5:
            step = step + 1
        else:
            step = step + np.random.randint(1,7)
        if np.random.rand() <= 0.001 :
            step = 0
        random_walk.append(step)
    all_walks.append(random_walk)

# Create and plot np_aw_t
np_aw_t = np.transpose(np.array(all_walks))

# Select last row from np_aw_t: ends
ends = np_aw_t[-1,:]

# Plot histogram of ends, display plot
plt.hist(ends)
plt.show()



