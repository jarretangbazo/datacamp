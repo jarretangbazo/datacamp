


# Import Pandas and Matplotlib
import pandas as pd
import numpy as np
import matplotlib.pyplot as plt

# Import data
nf = pd.read_csv("data/netflix_titles.csv", index_col = 0)
nf.head(10)

# Subset dataframe to only movies from the 1990s
nf_90s_movies = nf[(nf['type'] == 'Movie') & (nf['release_year'] >= 1990) & (nf['release_year'] <= 1999)]
nf_90s_movies.head(10)





# Explore

# Find the most frequent movie duration
duration = int(nf_90s_movies['duration'].mode()[0].replace(' min', ''))
print("The most frequent movie duration in the 1990s is " + str(duration) + " mins")


import numpy as np

# Count of short action movies
nf_movies_90s = nf_movies_90s.copy() # Need to create a copy when adding a column to our existing dataframe
nf_movies_90s['genre_list'] = nf_movies_90s['listed_in'].str.split(', ')
#[(nf_movies_90s['duration_mins']) < 90]
nf_movies_90s.head(10)
all_genres = set([genre for sublist in nf_movies_90s['genre_list'] for genre in sublist])
# print(all_genres)


short_action_movies = nf_movies_90s[nf_movies_90s['genre_list'].apply(lambda genres: 'Action & Adventure' in genres)]
short_movie_count = len(short_action_movies[short_action_movies['duration_mins'] < 90])


# short_movie_count = short_action_movies.count()
# print(short_movie_count)
print("Number of short Action & Adventure movies: " + str(short_movie_count))


# Explore


# Visualize


# Analyze
